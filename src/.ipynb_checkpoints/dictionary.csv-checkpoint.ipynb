{
 "cells": [
  {
   "cell_type": "code",
   "execution_count": 20,
   "id": "7e7e684b",
   "metadata": {},
   "outputs": [],
   "source": [
    "import pandas as pd"
   ]
  },
  {
   "cell_type": "code",
   "execution_count": 21,
   "id": "7ae5b7d3",
   "metadata": {},
   "outputs": [],
   "source": [
    "df =pd.read_csv(\"data.csv\")"
   ]
  },
  {
   "cell_type": "code",
   "execution_count": 22,
   "id": "a272d70d",
   "metadata": {},
   "outputs": [],
   "source": [
    "#df.head()"
   ]
  },
  {
   "cell_type": "code",
   "execution_count": 23,
   "id": "9a533ef0",
   "metadata": {},
   "outputs": [],
   "source": [
    "dict_from_df = df.to_dict()"
   ]
  },
  {
   "cell_type": "code",
   "execution_count": 24,
   "id": "bc2eba43",
   "metadata": {},
   "outputs": [],
   "source": [
    "df.dropna(inplace=True)"
   ]
  },
  {
   "cell_type": "code",
   "execution_count": null,
   "id": "5c52b758",
   "metadata": {},
   "outputs": [],
   "source": []
  },
  {
   "cell_type": "code",
   "execution_count": 25,
   "id": "708668fc",
   "metadata": {},
   "outputs": [
    {
     "name": "stdout",
     "output_type": "stream",
     "text": [
      "{'Name': 'Marr Labs', 'Tagline': 'AI-voice agents that are indistinguishable from humans.', 'Description': 'Out of the box, Vox just works. This frees up your workforce to focus on critical issues. With Vox’s 24/7 conversational intelligence, your team can close more business and handle more customer service issues with a human touch.', 'Category': 'AI Agents', 'YouTube link': 'https://www.youtube.com/watch?v=UWaAL1MSOZ8&t=21s', 'Founded in': 2023.0, 'Name of the Founders': 'Dave Grannan and Han Shu', 'Special Features': 'Scheduler, Lead pre-qualification, Data acquisition, Sales agent, Customer service agent, Personal assistant', 'Pricing Plans': 'Contact Us', 'Wesbiste Link': 'https://www.marrlabs.com/', 'Logo': 'https://bookface-images.s3.amazonaws.com/logos/ae38baa345d785a0b16c12dceb9a7089620d0f69.png'}\n"
     ]
    }
   ],
   "source": [
    "first_row = df.iloc[0]\n",
    "\n",
    "# Convert the first row to a dictionary\n",
    "first_row_dict = first_row.to_dict()\n",
    "\n",
    "# Print the dictionary\n",
    "print(first_row_dict)"
   ]
  },
  {
   "cell_type": "code",
   "execution_count": 26,
   "id": "61f3409b",
   "metadata": {},
   "outputs": [
    {
     "data": {
      "text/plain": [
       "Index(['Name', 'Tagline', 'Description', 'Category', 'YouTube link',\n",
       "       'Founded in', 'Name of the Founders', 'Special Features',\n",
       "       'Pricing Plans', 'Wesbiste Link', 'Logo'],\n",
       "      dtype='object')"
      ]
     },
     "execution_count": 26,
     "metadata": {},
     "output_type": "execute_result"
    }
   ],
   "source": [
    "df.columns"
   ]
  },
  {
   "cell_type": "code",
   "execution_count": 27,
   "id": "167a551b",
   "metadata": {},
   "outputs": [],
   "source": [
    "df.rename(columns={'Name':'name', 'Tagline':'tagline', 'Description':'description', 'Category':'Category', 'YouTube link':'video_url',\n",
    "       'Founded in':'Founded', 'Name of the Founders':'Founders', 'Special Features':'Special_Features',\n",
    "       'Pricing Plans':'Pricing_Plans', 'Wesbiste Link':'website', 'Logo':'icon'},inplace=True)"
   ]
  },
  {
   "cell_type": "code",
   "execution_count": 28,
   "id": "e240aa50",
   "metadata": {},
   "outputs": [
    {
     "data": {
      "text/plain": [
       "Index(['name', 'tagline', 'description', 'Category', 'video_url', 'Founded',\n",
       "       'Founders', 'Special_Features', 'Pricing_Plans', 'website', 'icon'],\n",
       "      dtype='object')"
      ]
     },
     "execution_count": 28,
     "metadata": {},
     "output_type": "execute_result"
    }
   ],
   "source": [
    "df.columns"
   ]
  },
  {
   "cell_type": "code",
   "execution_count": 37,
   "id": "f089a73d",
   "metadata": {},
   "outputs": [
    {
     "name": "stdout",
     "output_type": "stream",
     "text": [
      "{'name': 'Amber AI', 'tagline': 'Co-pilot for Account Managers', 'description': 'Amber is an extension of your post-sales team that has context on every customer and every action. ', 'Category': 'AI Agents', 'video_url': 'https://youtu.be/DTjH5RTE4Lo', 'Founded': 2024.0, 'Founders': 'Oliver Zou, Helen Wu', 'Special_Features': 'Automate reactive responses, Supercharge proactive outreach', 'Pricing_Plans': 'Contact Us', 'website': 'https://www.helloamber.ai', 'icon': 'https://bookface-images.s3.amazonaws.com/small_logos/ff0aee737867b4cc208ed70d985fdd52233ec5bc.png'}\n"
     ]
    }
   ],
   "source": [
    "first_row = df.iloc[8]\n",
    "\n",
    "# Convert the first row to a dictionary\n",
    "first_row_dict = first_row.to_dict()\n",
    "\n",
    "# Print the dictionary\n",
    "print(first_row_dict)"
   ]
  },
  {
   "cell_type": "code",
   "execution_count": null,
   "id": "f83dddb8",
   "metadata": {},
   "outputs": [],
   "source": []
  }
 ],
 "metadata": {
  "kernelspec": {
   "display_name": "Python 3 (ipykernel)",
   "language": "python",
   "name": "python3"
  },
  "language_info": {
   "codemirror_mode": {
    "name": "ipython",
    "version": 3
   },
   "file_extension": ".py",
   "mimetype": "text/x-python",
   "name": "python",
   "nbconvert_exporter": "python",
   "pygments_lexer": "ipython3",
   "version": "3.11.5"
  }
 },
 "nbformat": 4,
 "nbformat_minor": 5
}
