{
 "cells": [
  {
   "cell_type": "code",
   "execution_count": 20,
   "id": "ce76420b",
   "metadata": {},
   "outputs": [],
   "source": [
    "import pandas as pd"
   ]
  },
  {
   "cell_type": "code",
   "execution_count": 21,
   "id": "de8ac29f",
   "metadata": {},
   "outputs": [],
   "source": [
    "df =pd.read_csv(\"data.csv\")"
   ]
  },
  {
   "cell_type": "code",
   "execution_count": 22,
   "id": "8d531abe",
   "metadata": {},
   "outputs": [],
   "source": [
    "#df.head()"
   ]
  },
  {
   "cell_type": "code",
   "execution_count": 23,
   "id": "4194514c",
   "metadata": {},
   "outputs": [],
   "source": [
    "dict_from_df = df.to_dict()"
   ]
  },
  {
   "cell_type": "code",
   "execution_count": 24,
   "id": "4c30eb45",
   "metadata": {},
   "outputs": [],
   "source": [
    "df.dropna(inplace=True)"
   ]
  },
  {
   "cell_type": "code",
   "execution_count": null,
   "id": "e109e275",
   "metadata": {},
   "outputs": [],
   "source": []
  },
  {
   "cell_type": "code",
   "execution_count": 25,
   "id": "528b63e0",
   "metadata": {},
   "outputs": [
    {
     "name": "stdout",
     "output_type": "stream",
     "text": [
      "{'Name': 'Marr Labs', 'Tagline': 'AI-voice agents that are indistinguishable from humans.', 'Description': 'Out of the box, Vox just works. This frees up your workforce to focus on critical issues. With Vox’s 24/7 conversational intelligence, your team can close more business and handle more customer service issues with a human touch.', 'Category': 'AI Agents', 'YouTube link': 'https://www.youtube.com/watch?v=UWaAL1MSOZ8&t=21s', 'Founded in': 2023.0, 'Name of the Founders': 'Dave Grannan and Han Shu', 'Special Features': 'Scheduler, Lead pre-qualification, Data acquisition, Sales agent, Customer service agent, Personal assistant', 'Pricing Plans': 'Contact Us', 'Wesbiste Link': 'https://www.marrlabs.com/', 'Logo': 'https://bookface-images.s3.amazonaws.com/logos/ae38baa345d785a0b16c12dceb9a7089620d0f69.png'}\n"
     ]
    }
   ],
   "source": [
    "first_row = df.iloc[0]\n",
    "\n",
    "# Convert the first row to a dictionary\n",
    "first_row_dict = first_row.to_dict()\n",
    "\n",
    "# Print the dictionary\n",
    "print(first_row_dict)"
   ]
  },
  {
   "cell_type": "code",
   "execution_count": 26,
   "id": "c2960992",
   "metadata": {},
   "outputs": [
    {
     "data": {
      "text/plain": [
       "Index(['Name', 'Tagline', 'Description', 'Category', 'YouTube link',\n",
       "       'Founded in', 'Name of the Founders', 'Special Features',\n",
       "       'Pricing Plans', 'Wesbiste Link', 'Logo'],\n",
       "      dtype='object')"
      ]
     },
     "execution_count": 26,
     "metadata": {},
     "output_type": "execute_result"
    }
   ],
   "source": [
    "df.columns"
   ]
  },
  {
   "cell_type": "code",
   "execution_count": 27,
   "id": "f02960b8",
   "metadata": {},
   "outputs": [],
   "source": [
    "df.rename(columns={'Name':'name', 'Tagline':'tagline', 'Description':'description', 'Category':'Category', 'YouTube link':'video_url',\n",
    "       'Founded in':'Founded', 'Name of the Founders':'Founders', 'Special Features':'Special_Features',\n",
    "       'Pricing Plans':'Pricing_Plans', 'Wesbiste Link':'website', 'Logo':'icon'},inplace=True)"
   ]
  },
  {
   "cell_type": "code",
   "execution_count": 28,
   "id": "5a06e1b9",
   "metadata": {},
   "outputs": [
    {
     "data": {
      "text/plain": [
       "Index(['name', 'tagline', 'description', 'Category', 'video_url', 'Founded',\n",
       "       'Founders', 'Special_Features', 'Pricing_Plans', 'website', 'icon'],\n",
       "      dtype='object')"
      ]
     },
     "execution_count": 28,
     "metadata": {},
     "output_type": "execute_result"
    }
   ],
   "source": [
    "df.columns"
   ]
  },
  {
   "cell_type": "code",
   "execution_count": 50,
   "id": "7c952887",
   "metadata": {},
   "outputs": [
    {
     "name": "stdout",
     "output_type": "stream",
     "text": [
      "{'Quary': {'name': 'Quary', 'tagline': 'The first in-browser analytics engineering platform', 'description': 'Quary is the first analytics engineering platform that brings the entire model-test-deploy workflow into the browser. ', 'Category': 'AI-powered Analytics', 'video_url': 'https://www.youtube.com/watch?v=MD6In-iUd9g&t=3s', 'Founded': 2023.0, 'Founders': 'Benjamin King, Louis Jordan', 'Special_Features': 'Connect to your data warehouse, Organise your Business Intelligence as SQL, Collaborate securely, Deploy models', 'Pricing_Plans': 'Free', 'website': 'https://www.quary.dev', 'icon': 'https://bookface-images.s3.amazonaws.com/small_logos/e54d14cc55231dd1bd8f1cfd85b8f8366f88fae7.png'}, 'Octolane AI': {'name': 'Octolane AI', 'tagline': 'Building AI-first Salesforce', 'description': 'Building AI-first Salesforce. Our CRM does a lot more than just storing customer data. It uses AI to find the best customers, reach out to them and close them.', 'Category': 'AI-powered Analytics', 'video_url': 'https://www.octolane.com/assets/images/screenshot1.jpg', 'Founded': 2024.0, 'Founders': 'One Chowdhury, Md Abdul Halim Rafi', 'Special_Features': 'Company Enrichment, Email Sending, Real-time Email & Calendar Sync, Lead Identify, PostHog, Segment & Slack Integrations', 'Pricing_Plans': '$1000/month', 'website': 'https://www.octolane.com', 'icon': 'https://bookface-images.s3.amazonaws.com/small_logos/a1549de8fd9953675de16d8b1fa448b4b2c204b6.png'}, 'Focal': {'name': 'Focal', 'tagline': 'AI video creation tool for TV shows and movies', 'description': 'Focal is an AI video creation tool that allows anyone to create and share TV episodes and movies. We combine existing video, audio, and language models to make this process simple and straightforward.', 'Category': 'Multimedia Generation', 'video_url': 'https://youtu.be/GFaN96OMlb0', 'Founded': 2023.0, 'Founders': 'Robert Cunningham, Felix Wang', 'Special_Features': 'Adapt books into screenplays, Generating video and audio clips, Keeping characters consistent, Lip-syncing characters', 'Pricing_Plans': 'Contact Us', 'website': 'https://focalml.com', 'icon': 'https://bookface-images.s3.amazonaws.com/small_logos/9ec08eef8dbe4db1ca30529a97bf9fde4e2b61aa.png'}, 'ego': {'name': 'ego', 'tagline': 'AI-native 3D simulation engine', 'description': 'We’re building the first generative ai-powered simulation engine, where non-technical creators can generate realistic characters powered by LLMs, 3D worlds, and interaction code/scripts with just prompts.', 'Category': 'Multimedia Generation', 'video_url': 'https://www.youtube.com/watch?v=bLpG4LrLf60&t=44s', 'Founded': 2023.0, 'Founders': 'Vishnu Hari, Peggy Wang', 'Special_Features': 'Character personalities, Conversations, Memories, and Routines/movements in games', 'Pricing_Plans': 'Contact Us', 'website': 'https://www.ego.live', 'icon': 'https://bookface-images.s3.amazonaws.com/small_logos/ccbeabe74e35bc254e82e981b4fca69945e24730.png'}, 'Eggnog': {'name': 'Eggnog', 'tagline': 'Youtube for AI-generated content', 'description': 'Eggnog is the Youtube for AI-generated content. The initial product is the only AI video platform on the market that generates consistent characters.', 'Category': 'Multimedia Generation', 'video_url': 'https://www.youtube.com/watch?v=WnAzSG9PFO8', 'Founded': 2024.0, 'Founders': 'Jitesh Maiyuran, Sam Plank', 'Special_Features': 'Create Characters, Storyboard, Generate videos', 'Pricing_Plans': 'Contact Us', 'website': 'https://www.eggnog.ai', 'icon': 'https://bookface-images.s3.amazonaws.com/small_logos/b8db4ae69ffa9fe27a2e056c7825fa07368367d7.png'}, 'CodeAnt AI': {'name': 'CodeAnt AI', 'tagline': 'AI to auto-fix bad code & security vulnerabilities.', 'description': \"CodeAnt AI is a DevTool that helps companies find and auto-fix code issues and security vulnerabilities. We're like SonarSource or Veracode, but we don't just detect bad code; we auto-fix it.\", 'Category': 'Code Assistants', 'video_url': 'https://www.youtube.com/watch?v=Znq7n98rHGo', 'Founded': 2023.0, 'Founders': 'Amartya Jha, Chinmay Bharti', 'Special_Features': 'Pull Request Reviewer, Code Health Dashboard, Shift Left Instantly', 'Pricing_Plans': '$19-39/user/month', 'website': 'https://www.codeant.ai', 'icon': 'https://bookface-images.s3.amazonaws.com/small_logos/9efd3b7815df44b6aca06023be3c607e3a345ee5.png'}, 'Ellipsis ': {'name': 'Ellipsis ', 'tagline': 'Convert technical instructions into working, tested code', 'description': 'With Ellipsis, teams get a deep LLM-powered code review on every commit. When a developer wants to make a change, they simply tag us, and Ellipsis submits the fix.', 'Category': 'Code Assistants', 'video_url': 'https://www.loom.com/share/3c03d542f5d04df19946c770f8db3661?sid=19d6c83d-7f6e-4a08-bcf1-de4bd877d3b2', 'Founded': 2023.0, 'Founders': 'Hunter Brooks, Nick Bradford', 'Special_Features': 'Automated Code Review, Pull-requests-as-a-service, Address PR comments', 'Pricing_Plans': 'Contact Us', 'website': 'https://www.ellipsis.dev', 'icon': 'https://bookface-images.s3.amazonaws.com/small_logos/825caa6d8502745ed1854595552f4f7f1091bb3e.png'}, 'Decipher AI': {'name': 'Decipher AI', 'tagline': 'Helping engineers understand and fix production bugs', 'description': 'Decipher AI lets engineers identify and resolve production issues by analyzing runtime data and product behavior with AI. Companies use us to monitor their application and to quickly understand what went wrong, the user impact, and how to fix it.\\r', 'Category': 'Code Assistants', 'video_url': 'https://www.youtube.com/watch?v=mqzt1JrbxQM&list=TLGGQGFWJR0gNm8yMDA0MjAyNA', 'Founded': 2023.0, 'Founders': 'Michael Rosenfield, Rohan Das', 'Special_Features': 'All the context in one place, AI powered user impact summaries, AI fast debugging', 'Pricing_Plans': 'Contact Us', 'website': 'https://getdecipher.com', 'icon': 'https://bookface-images.s3.amazonaws.com/small_logos/29585cd58ffa28775d545a62edb03b71fdea79f2.png'}, 'Keywords AI': {'name': 'Keywords AI', 'tagline': 'Unified DevOps platform to build software with AI.', 'description': 'The only platform you need to launch and optimize your LLM application. Integration is dead simple - everything comes with 2 lines of code', 'Category': 'Code Assistants', 'video_url': 'https://keywordsai.co/images/Dashboard.png', 'Founded': 2023.0, 'Founders': 'Andy Li, Raymond Huang', 'Special_Features': 'Infrastructure and Deployment, Model Playground, Prompt Management, Request Logging, Performance Evaluations, Usage Dashboard and Analytics, Data Curation and Fine-Tuning', 'Pricing_Plans': 'Free to $499/month', 'website': 'https://keywordsai.co/#/', 'icon': 'https://bookface-images.s3.amazonaws.com/small_logos/3f60a49b454abcbf399c1110eb888b6aa3b0627f.png'}, 'ion design': {'name': 'ion design', 'tagline': 'Instantly converts designs into clean code', 'description': 'ion design is building a new layer on the software development stack, automating front-end engineering through a design system and code generation.', 'Category': 'Code Assistants', 'video_url': 'https://www.youtube.com/watch?v=81kUjZUXaxQ', 'Founded': 2023.0, 'Founders': 'Samraaj Bath, Samuel Barnholdt', 'Special_Features': 'Pixel-perfect code, Multifile components, Conditional logic and stub functions', 'Pricing_Plans': 'Contact Us', 'website': 'https://www.ion.design', 'icon': 'https://bookface-images.s3.amazonaws.com/small_logos/19ac79a5dd7e79b8d3e0a7794a401a7673116ee9.png'}, 'Kiosk ': {'name': 'Kiosk ', 'tagline': 'AI powered WhatsApp Marketing platform', 'description': 'In short, we blend AI agents and traditional marketing tools (Campaigns, Workflows) to generate personalised conversations at scale. Think of us like the MailChimp for WhatsApp, with a conversational AI twist', 'Category': 'AI-led Marketing', 'video_url': 'https://www.ycombinator.com/media/?type=post&id=79125&key=user_uploads/1623166/395fe0bf-014b-4018-8a41-2b98c8c2dd5e', 'Founded': 2023.0, 'Founders': 'Paul Lafforgue, Thomas Sohet', 'Special_Features': 'Build automations in Kiosk, Send an interactive campaign', 'Pricing_Plans': '$100-500/month', 'website': 'https://www.kiosk.so', 'icon': 'https://bookface-images.s3.amazonaws.com/small_logos/c7b8da61a468644beaadb1f98361270cd5fafb99.png'}, 'Zaymo': {'name': 'Zaymo', 'tagline': 'Interactive email builder for ecommerce brands', 'description': \"Recent changes in email clients made it possible to embed a whole website inside an email. We've built the first email builder that lets Shopify brands create emails that are fully interactive like websites. \", 'Category': 'AI-led Marketing', 'video_url': 'https://www.youtube.com/watch?v=ToLPqStUMiY', 'Founded': 2023.0, 'Founders': 'Brice Douglas, Santiago Gomez Paz, Daniel Jones', 'Special_Features': 'In-email abandoned cart recovery, One-click subscription upsell, Campaigns, Review collection, Forms', 'Pricing_Plans': 'Contact Us', 'website': 'https://zaymo.com', 'icon': 'https://bookface-images.s3.amazonaws.com/small_logos/ffeb1af9c08c8389614114b183fb157758499ef6.png'}, '1stCollab': {'name': '1stCollab', 'tagline': 'Performance-Optimized Influencer Marketing', 'description': '1stCollab is an AI-powered influencer marketing platform for helping brands optimize performance. ', 'Category': 'AI-led Marketing', 'video_url': 'https://www.1stcollab.com/static/media/hero_clean.5f8e85cccf58ce4fef9f.png', 'Founded': 2022.0, 'Founders': 'Leon Lin, Varun Bansal, Carina Cater, Andrew Liu', 'Special_Features': 'Campaign launch, Real time metrics update, A custom shareable link', 'Pricing_Plans': 'Contact Us', 'website': 'https://www.1stcollab.com', 'icon': 'https://bookface-images.s3.amazonaws.com/small_logos/38bfe8c1abadf254cda7e353f68089f57109eaec.png'}, 'Penguin AI': {'name': 'Penguin AI', 'tagline': 'AI-Powered Inbound Sales Platform', 'description': 'Penguin AI is an inbound sales platform that identifies, engages, and converts leads visiting your website into demos.', 'Category': 'AI-led Marketing', 'video_url': 'https://www.youtube.com/watch?v=jPCwcvVu3-A', 'Founded': 2022.0, 'Founders': 'Rohan Doshi', 'Special_Features': 'Lead Feed, Workflows, AI Chat', 'Pricing_Plans': '$499-999/month', 'website': 'https://www.penguinai.app', 'icon': 'https://bookface-images.s3.amazonaws.com/small_logos/a179ed55776fa8b30a32019584bd1e644d3018a9.png'}, 'Plai': {'name': 'Plai', 'tagline': 'Run ads with AI', 'description': 'Plai is the AI advertising tool built for marketing teams and agencies. Thousands of advertisers are using Plai to create Facebook Ads, Google Ads, and TikTok Ads from a ChatGPT prompt.', 'Category': 'AI-led Marketing', 'video_url': 'https://www.youtube.com/watch?v=Uch3KC9YkHE&t=109s', 'Founded': 2020.0, 'Founders': 'Logan Welbaum', 'Special_Features': 'Automated ad improvements, Analytics supported for insights, Create ad templates with AI, AI Landing Page Builder ', 'Pricing_Plans': 'Contact Us', 'website': 'https://www.plai.io', 'icon': 'https://bookface-images.s3.amazonaws.com/small_logos/9e5edb26e5bdc44b210c50ed3cc68204303afbc9.png'}, 'Firebender': {'name': 'Firebender', 'tagline': 'Find the best leads to sell to', 'description': 'With Firebender, you can qualify any company using natural language over scraped websites, job listings, linkedin posts, and more.', 'Category': 'AI-led Marketing', 'video_url': 'https://www.loom.com/share/971a9b1a0d13481daad45d439f7d0b71?sid=5494f882-da31-49f5-b0f9-0ccd3719673f', 'Founded': 2023.0, 'Founders': 'Aman Gottumukkala, Kevin Tang', 'Special_Features': 'Ask questions, Find deeper insights, Qualify leads.', 'Pricing_Plans': '$199-599/month', 'website': 'https://firebender.com', 'icon': 'https://bookface-images.s3.amazonaws.com/small_logos/2e115e9ecb462ccede05b8f40b4dc09bb024f6b5.png'}, 'Quivr': {'name': 'Quivr', 'tagline': 'Open Source Chat-Powered Second Brain', 'description': 'Quivr is an AI open-source platform where enterprises connect to their tools, docs, APIs and databases to chat with them. ', 'Category': 'AI Chatbots', 'video_url': 'https://www.youtube.com/watch?v=jvNYWiXvkds', 'Founded': 2024.0, 'Founders': 'Stan Girard, Antoine Dewez, Brian Laleye', 'Special_Features': 'Automatically write an email, Extract actionable information, Summarise', 'Pricing_Plans': 'Free to $15/seat/month', 'website': 'https://www.quivr.app', 'icon': 'https://bookface-images.s3.amazonaws.com/small_logos/55e2d5d59eda45392b5f80742e4d67462860257e.png'}, 'Danswer': {'name': 'Danswer', 'tagline': 'Open Source AI Assistant and Enterprise Search', 'description': 'Danswer is the AI assistant that connects to all your company tools and docs and makes finding any piece of information a breeze.', 'Category': 'AI Chatbots', 'video_url': 'https://www.danswer.ai/landing/demo.mp4', 'Founded': 2023.0, 'Founders': 'Yuhong Sun, Chris Weaver', 'Special_Features': \"Avoid model provider lock-in, Leverage your LLM's internal knowledge, AI responses that reference real sources, Built for Slack, Host anywhere, Create tailored personas\", 'Pricing_Plans': 'Free to $16/seat/month', 'website': 'https://www.danswer.ai', 'icon': 'https://bookface-images.s3.amazonaws.com/small_logos/a6f88d118408e0d4b09770e0ebb02f3ff2d95a83.png'}, 'Zep AI': {'name': 'Zep AI', 'tagline': 'Long-Term Memory for AI Assistants', 'description': 'Zep is the easiest way to add long-term memory to your AI Assistant. With Zep, you can recall, understand, and extract data from chat histories, enabling you to build rich, personalized experiences.', 'Category': 'AI Chatbots', 'video_url': 'https://www.youtube.com/watch?v=qVspUE_R-iI', 'Founded': 2023.0, 'Founders': 'Daniel Chalef', 'Special_Features': 'Perpetual Memory, Dialog Classifier, Structured Data Extraction', 'Pricing_Plans': 'Free to $285/month', 'website': 'https://www.getzep.com', 'icon': 'https://bookface-images.s3.amazonaws.com/small_logos/01c6d0585e8c71ae2a60d4a67e5c15a449165704.png'}, 'Rex': {'name': 'Rex', 'tagline': 'Your personal AI fitness and nutrition coach', 'description': 'Rex.fit (formerly BabylonAI) is an AI fitness and nutrition coach. We use computer vision and AI to create interactive gamified workouts. We also offer a nutrition chatbot that simplifies food logging through natural language processing.', 'Category': 'AI Chatbots', 'video_url': 'https://www.ycombinator.com/media/?type=post&id=75089&key=user_uploads/635063/c8de0795-3972-4ccd-8cab-6f18656d3efc', 'Founded': 2023.0, 'Founders': 'Rangel Milushev, Ahmad Roumie', 'Special_Features': 'Track calories, Get workout suggestions, Get daily reports and feedback', 'Pricing_Plans': 'Free', 'website': 'https://www.rex.fit', 'icon': 'https://bookface-images.s3.amazonaws.com/small_logos/1868ecd3b1ecd377ff3e39716f5202b3b4a837de.png'}, 'Sherloq': {'name': 'Sherloq', 'tagline': 'ChatGPT customized for any organization’s internal database', 'description': \"Sherloq is like ChatGPT and Co-pilot for any organization's internal database. Data teams use us as their single source of truth on top of their existing data stack.\", 'Category': 'AI Chatbots', 'video_url': 'https://www.sherloqdata.io/wp-content/uploads/2023/08/1.1.png', 'Founded': 2022.0, 'Founders': 'Noy Twerski, Alon Greenfield, Nadav Gutman', 'Special_Features': 'Ask Any Data Question, Copilot & Auto-Suggestions, Metrics & SQL Repository, Integrates with your existing data stack', 'Pricing_Plans': 'Contact Us', 'website': 'https://www.sherloqdata.io/#', 'icon': 'https://bookface-images.s3.amazonaws.com/small_logos/416d7b9190a2113a09b5de9e932713dbb12c2145.png'}, 'Inkeep': {'name': 'Inkeep', 'tagline': 'Turn your docs into a \"ChatGPT\"-like AI search and support copilot', 'description': 'Inkeep helps turn your docs, help center, and other content into an AI-powered search and chat copilot for you product. 100+ teams use Inkeep to improve user experience, deflect support questions, and identify gaps in their documentation.', 'Category': 'AI Chatbots', 'video_url': 'https://www.ycombinator.com/media/?type=post&id=69837&key=user_uploads/1161457/41100239-1ce3-4e5a-8349-4294e24a237d', 'Founded': 2023.0, 'Founders': 'Nick Gomez, Robert Tran', 'Special_Features': 'Search bar for your docs, Chat widget for your app or landing page, Slack or Discord bot for your community', 'Pricing_Plans': '$120-299/month', 'website': 'https://inkeep.com', 'icon': 'https://bookface-images.s3.amazonaws.com/small_logos/72bfb13e14b0f43d68d0a7055eec27310d54f3c0.png'}}\n"
     ]
    }
   ],
   "source": [
    "my_dict={}\n",
    "    \n",
    "for i in range(15,37):\n",
    "\n",
    "    first_row = df.iloc[i]\n",
    "\n",
    "    # Convert the first row to a dictionary\n",
    "    first_row_dict = first_row.to_dict()\n",
    "\n",
    "    my_dict[first_row_dict[\"name\"]] = first_row_dict\n",
    "    \n",
    "    \n",
    "print(my_dict)"
   ]
  },
  {
   "cell_type": "code",
   "execution_count": 52,
   "id": "73ea8f21",
   "metadata": {},
   "outputs": [
    {
     "data": {
      "text/plain": [
       "1       Marr Labs\n",
       "2          Powder\n",
       "3     OpenFoundry\n",
       "4           Veles\n",
       "5        Fluently\n",
       "6       Basepilot\n",
       "7         Sonauto\n",
       "8        Amber AI\n",
       "9            Alai\n",
       "10      PocketPod\n",
       "11    Opencall Ai\n",
       "12       PandasAI\n",
       "13       Kater Ai\n",
       "14     Pretzel AI\n",
       "15     Upsolve AI\n",
       "16          Quary\n",
       "17    Octolane AI\n",
       "18          Focal\n",
       "19            ego\n",
       "20         Eggnog\n",
       "21     CodeAnt AI\n",
       "22      Ellipsis \n",
       "23    Decipher AI\n",
       "24    Keywords AI\n",
       "25     ion design\n",
       "26         Kiosk \n",
       "27          Zaymo\n",
       "28      1stCollab\n",
       "29     Penguin AI\n",
       "30           Plai\n",
       "31     Firebender\n",
       "32          Quivr\n",
       "33        Danswer\n",
       "34         Zep AI\n",
       "35            Rex\n",
       "36        Sherloq\n",
       "37         Inkeep\n",
       "Name: name, dtype: object"
      ]
     },
     "execution_count": 52,
     "metadata": {},
     "output_type": "execute_result"
    }
   ],
   "source": [
    "df[\"name\"]"
   ]
  },
  {
   "cell_type": "code",
   "execution_count": null,
   "id": "754805d8",
   "metadata": {},
   "outputs": [],
   "source": []
  }
 ],
 "metadata": {
  "kernelspec": {
   "display_name": "Python 3 (ipykernel)",
   "language": "python",
   "name": "python3"
  },
  "language_info": {
   "codemirror_mode": {
    "name": "ipython",
    "version": 3
   },
   "file_extension": ".py",
   "mimetype": "text/x-python",
   "name": "python",
   "nbconvert_exporter": "python",
   "pygments_lexer": "ipython3",
   "version": "3.11.5"
  }
 },
 "nbformat": 4,
 "nbformat_minor": 5
}
